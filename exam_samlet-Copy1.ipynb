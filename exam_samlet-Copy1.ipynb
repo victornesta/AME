{
 "cells": [
  {
   "cell_type": "code",
   "execution_count": 2,
   "metadata": {},
   "outputs": [],
   "source": [
    "import numpy as np\n",
    "from types import SimpleNamespace\n",
    "%load_ext autoreload\n",
    "%autoreload 2\n",
    "\n",
    "%matplotlib inline\n",
    "import matplotlib.pyplot as plt\n",
    "plt.style.use('seaborn-whitegrid')\n",
    "\n",
    "# Import additional libraries: \n",
    "from matplotlib import cm\n",
    "import sympy as sm\n",
    "from sympy import *\n",
    "from scipy import optimize\n",
    "from scipy import interpolate\n",
    "\n",
    "#KRÆVER INSTALLATION MED pip install tabulate\n",
    "from tabulate import tabulate"
   ]
  },
  {
   "cell_type": "markdown",
   "metadata": {},
   "source": [
    "# The logit model"
   ]
  },
  {
   "cell_type": "code",
   "execution_count": 13,
   "metadata": {},
   "outputs": [],
   "source": [
    "# Data generating process\n",
    "def DGP(mp):\n",
    "    ''' The data generating process behind binary choice model\n",
    "    \n",
    "    Args:\n",
    "        mp (SimpleNamespace): object containing parameters for data generation\n",
    "    \n",
    "    Returns:\n",
    "        y_obs (ndarray): indicator for binary choices made by individuals\n",
    "        x_obs (ndarray): independent variables \n",
    "    \n",
    "    '''\n",
    "\n",
    "    # a. Exogenous variables\n",
    "    x0 = np.tile(1.0, mp.N)\n",
    "    x1 = np.random.normal(**mp.x1_distr)\n",
    "    x2 = np.random.normal(**mp.x2_distr)\n",
    "    x_obs = np.vstack((x0, x1, x2)).T\n",
    "    eps = np.random.logistic(0,1,mp.N)\n",
    "\n",
    "    # b. Probabilities of action choice \n",
    "    y_prb = np.exp(x_obs @ mp.beta) / (1 + np.exp(x_obs @ mp.beta))\n",
    "\n",
    "    # c. Draw binary choices from the binomial distribution \n",
    "    y_obs = np.random.binomial(1, y_prb)\n",
    "    return y_obs, x_obs, eps\n",
    "\n",
    "# Parameters\n",
    "mp = SimpleNamespace()\n",
    "mp.beta = np.array([0.15, 0.1, 0.2])\n",
    "mp.N = 100000\n",
    "mp.x1_distr = {'loc': 4, 'scale': 3, 'size': mp.N}\n",
    "mp.x2_distr = {'loc': 1, 'scale': 0.5, 'size': mp.N}\n",
    "\n",
    "# Create data\n",
    "np.random.seed(2021)\n",
    "y_obs, x_obs, eps = DGP(mp)"
   ]
  },
  {
   "cell_type": "markdown",
   "metadata": {},
   "source": [
    "**Question 1.1**"
   ]
  },
  {
   "cell_type": "code",
   "execution_count": 5,
   "metadata": {},
   "outputs": [],
   "source": [
    "def log_likelihood(beta, y_obs, x_obs):\n",
    "    ''' Log-likelihood as a function of parameters \n",
    "    \n",
    "    Args:\n",
    "        beta (ndarray): array of paramters\n",
    "        y_obs (ndarray): indicator for binary choices made by individuals\n",
    "        x_obs (ndarray): independent variables \n",
    "    \n",
    "    Returns:\n",
    "        log_likeli (float): log-likelihood value\n",
    "    \n",
    "    '''\n",
    "    \n",
    "    prob = beta[0]*x_obs[:,0] + beta[1]*x_obs[:,1] + beta[2]*x_obs[:,2]\n",
    "    y_prb = np.exp(prob) / (1 + np.exp(prob))\n",
    "    \n",
    "    return y_obs@np.log(y_prb) + (1-y_obs)@np.log(1-y_prb)"
   ]
  },
  {
   "cell_type": "code",
   "execution_count": 6,
   "metadata": {},
   "outputs": [
    {
     "name": "stdout",
     "output_type": "stream",
     "text": [
      "True parameters yield the log-likelihood value of -62082.1327\n"
     ]
    }
   ],
   "source": [
    "beta = np.array([0.15, 0.1, 0.2])\n",
    "print(f'True parameters yield the log-likelihood value of {log_likelihood(beta, y_obs, x_obs):.4f}')"
   ]
  },
  {
   "cell_type": "markdown",
   "metadata": {},
   "source": [
    "**Question 1.2**"
   ]
  },
  {
   "cell_type": "markdown",
   "metadata": {},
   "source": [
    "**Question 1.3**"
   ]
  },
  {
   "cell_type": "code",
   "execution_count": 7,
   "metadata": {},
   "outputs": [],
   "source": [
    "def log_likelihood_obj(beta, y_obs, x_obs):\n",
    "    ''' returns the negative of the log likelihood value in order to perform maximum likelihood estimation by minimizing '''\n",
    "    return -log_likelihood(beta, y_obs, x_obs)"
   ]
  },
  {
   "cell_type": "code",
   "execution_count": 8,
   "metadata": {},
   "outputs": [],
   "source": [
    "#maximum likelihood estimates are computed using the gradient-free 'Nelder-Mead' approach.\n",
    "def MLE(y_obs, x_obs, betas0):\n",
    "    '''' Maximum likelihood estimates\n",
    "    \n",
    "    Args:\n",
    "    betas0 (ndarray):\n",
    "    y_obs (ndarray): indicator for binary choices made by individuals\n",
    "    x_obs (ndarray): independent variables \n",
    "    \n",
    "    Returns:\n",
    "    betas (ndarray): maximum likelihood estimates\n",
    "    \n",
    "    '''\n",
    "    \n",
    "    sol = optimize.minimize(log_likelihood_obj,betas0,args=(y_obs,x_obs),method='Nelder-Mead')\n",
    "    betas = sol.x\n",
    "    return betas"
   ]
  },
  {
   "cell_type": "code",
   "execution_count": 9,
   "metadata": {},
   "outputs": [
    {
     "name": "stdout",
     "output_type": "stream",
     "text": [
      "Maximum likelihood estimates are:\n",
      "beta0hat = 0.1591\n",
      "beta1hat = 0.0969\n",
      "beta2hat = 0.1987\n"
     ]
    }
   ],
   "source": [
    "betas0 = np.array([0.5,0.5,0.5])\n",
    "betas = MLE(y_obs, x_obs, betas0)\n",
    "print(f'Maximum likelihood estimates are:')\n",
    "for i,beta in enumerate(betas):\n",
    "    print(f'beta{i}hat = {beta:.4f}')"
   ]
  },
  {
   "cell_type": "markdown",
   "metadata": {},
   "source": [
    "**Question 1.4**"
   ]
  },
  {
   "cell_type": "code",
   "execution_count": 14,
   "metadata": {},
   "outputs": [
    {
     "name": "stdout",
     "output_type": "stream",
     "text": [
      "Statistics Group      Count\n",
      "------------------  -------\n",
      "y_obs=1, y_sim=1      46155\n",
      "y_obs=1, y_sim=0      21309\n",
      "y_obs=0, y_sim=1      21556\n",
      "y_obs=0, y_sim=0      10980\n"
     ]
    }
   ],
   "source": [
    "#Calculate ystar. Epsilon is added to the initial DGP\n",
    "ystar = betas[0]* x_obs[:,0] + betas[1] * x_obs[:,1] + betas[2] * x_obs[:,2] + eps\n",
    "\n",
    "#Initiate dictionary for each category (True,True), (True,False), (False,True) (False,False)\n",
    "start_dict = {\"tt\": 0, \"tf\": 0, \"ft\": 0, \"ff\": 0}\n",
    "\n",
    "#Loop over all observations to determine distribution\n",
    "for i in range(0,mp.N):\n",
    "    \n",
    "    if y_obs[i] == 1 and ystar[i]>0:\n",
    "        start_dict[\"tt\"] += 1\n",
    "    elif y_obs[i] == 1 and ystar[i]<=0:\n",
    "        start_dict[\"tf\"] += 1\n",
    "    elif y_obs[i] == 0 and ystar[i]>0:\n",
    "        start_dict[\"ft\"] += 1\n",
    "    elif y_obs[i] == 0 and ystar[i]<=0:\n",
    "        start_dict[\"ff\"] += 1\n",
    "\n",
    "#We print our results as a table in order to determine the distribution for each group.\n",
    "print(tabulate([[\"y_obs=1, y_sim=1\",start_dict['tt']],[\"y_obs=1, y_sim=0\",start_dict['tf']],\n",
    "[\"y_obs=0, y_sim=1\",start_dict['ft']],[\"y_obs=0, y_sim=0\",start_dict['ff']]], \n",
    "headers = [\"Statistics Group\",\"Count\"])) "
   ]
  },
  {
   "cell_type": "markdown",
   "metadata": {},
   "source": [
    "From the above distribution, it is clear that in 46155 of the cases both y_star and y_obs result in the agent taking the action. In about 21000 of the cases, either y_star or y_obs returns 1, while the other dosent. Finally in around 11% of the cases both y_star and y_obs will result in the individual not making the choice."
   ]
  },
  {
   "cell_type": "markdown",
   "metadata": {},
   "source": [
    "**Question 1.5**"
   ]
  },
  {
   "cell_type": "markdown",
   "metadata": {},
   "source": [
    "Evidently, the initial guess of $\\beta$ is important for whether the MLE function succeeds in returning actual estimates. As shown below, providing the initial guess, $\\beta = (\\beta_0, \\beta_1, \\beta_2)' = (5,5,5) $, renders a mistake."
   ]
  },
  {
   "cell_type": "code",
   "execution_count": 15,
   "metadata": {},
   "outputs": [
    {
     "name": "stderr",
     "output_type": "stream",
     "text": [
      "<ipython-input-5-992187c99732>:17: RuntimeWarning: divide by zero encountered in log\n",
      "  return y_obs@np.log(y_prb) + (1-y_obs)@np.log(1-y_prb)\n",
      "<ipython-input-5-992187c99732>:17: RuntimeWarning: invalid value encountered in matmul\n",
      "  return y_obs@np.log(y_prb) + (1-y_obs)@np.log(1-y_prb)\n"
     ]
    },
    {
     "name": "stdout",
     "output_type": "stream",
     "text": [
      "Maximum likelihood estimates are:\n",
      "beta0hat = 5.0000\n",
      "beta1hat = 5.0000\n",
      "beta2hat = 5.0000\n"
     ]
    }
   ],
   "source": [
    "betas0 = np.array([5,5,5])\n",
    "betas = MLE(y_obs, x_obs, betas0)\n",
    "print(f'Maximum likelihood estimates are:')\n",
    "for i,beta in enumerate(betas):\n",
    "    print(f'beta{i}hat = {beta:.4f}')"
   ]
  },
  {
   "cell_type": "markdown",
   "metadata": {},
   "source": [
    "# Consumption saving with borrowing"
   ]
  },
  {
   "cell_type": "code",
   "execution_count": 16,
   "metadata": {},
   "outputs": [],
   "source": [
    "#Parameters\n",
    "rho = 3\n",
    "kappa = 0.5\n",
    "nu = 0.1\n",
    "r = 0.04\n",
    "beta = 0.95\n",
    "Delta = 0.5\n",
    "\n",
    "#Dictionary:\n",
    "p_low_dict = {1: 0.9, 2:0.1}"
   ]
  },
  {
   "cell_type": "markdown",
   "metadata": {},
   "source": [
    "**Question 2.1**"
   ]
  },
  {
   "cell_type": "code",
   "execution_count": 17,
   "metadata": {},
   "outputs": [],
   "source": [
    "#defining basic functions of the model\n",
    "def utility(c,rho):\n",
    "    \"\"\"\"\n",
    "    Estimates the basic utility function for a given consumption level\n",
    "    \n",
    "    Args:\n",
    "    c (float): consumption in current period\n",
    "    rho (float): is the risk aversion coefficient\n",
    "\n",
    "    Returns:\n",
    "    util(float): utility in a given period\n",
    "    \"\"\"\n",
    "    return c**(1-rho)/(1-rho)\n",
    "\n",
    "\n",
    "def v2(c2, m2, nu, kappa, rho):\n",
    "    \"\"\"\n",
    "    Returns value of choice in period 2\n",
    "    \n",
    "    Args:\n",
    "    c2 (float): is consumption in the second period\n",
    "    m2 (float): cash-on-hand in the beginning of second period\n",
    "    nu (float): is the strength of the bequest motive\n",
    "    kappa (float): is the degree of luxuriousness in the bequest motive\n",
    "    rho (float): is the risk aversion coefficient\n",
    "\n",
    "    Returns: \n",
    "    v2 (float): value of choice in period 2\n",
    "    \"\"\"\n",
    "    return utility(c2, rho) + nu*(m2-c2+kappa)**(1-rho)/(1-rho)\n",
    "\n",
    "\n",
    "def v1(c1, m1, nu, kappa, rho, r, Delta, p_low, v2_interp):\n",
    "    \"\"\"\n",
    "    Returns value of choice in period 1\n",
    "    \n",
    "    Args:\n",
    "    c1 (float): is consumption in the first period\n",
    "    m1 (float): cash-on-hand in the beginning of the first\n",
    "    nu (float): is the strength of the bequest motive\n",
    "    kappa (float): is the degree of luxuriousness in the bequest motive\n",
    "    rho (float): is the risk aversion coefficient\n",
    "    r (float): is the interest rate\n",
    "    Delta (float): is the level of income risk\n",
    "    p_low (float): is the chance the given household type get a low income in the next period\n",
    "    v2_interp (array): Interpolation of v2 function\n",
    "\n",
    "\n",
    "    Returns: \n",
    "    v1 (float): total utility value in period 1\n",
    "    \"\"\"\n",
    "    \n",
    "    # Value of v2 if low income\n",
    "    m2_low = (1+r)*(m1-c1) + (1-Delta)\n",
    "    v2_low = v2_interp([m2_low])[0]\n",
    "    \n",
    "    # Value of v2 if high income\n",
    "    m2_high = (1+r)*(m1-c1) + (1+Delta)\n",
    "    v2_high = v2_interp([m2_high])[0]\n",
    "    \n",
    "    #Expected value of v2\n",
    "    v2 = p_low*v2_low + (1-p_low)*v2_high\n",
    "\n",
    "    #Return the total value\n",
    "    return utility(c1,rho) + beta*v2"
   ]
  },
  {
   "cell_type": "code",
   "execution_count": 18,
   "metadata": {},
   "outputs": [],
   "source": [
    "#Defining solver for period 2\n",
    "def solve_period_2(nu, kappa, rho):\n",
    "    \"\"\"\n",
    "    Returns value of choice in period 1\n",
    "    \n",
    "    Args:\n",
    "    nu (float): is the strength of the bequest motive\n",
    "    kappa (float): is the degree of luxuriousness in the bequest motive\n",
    "    rho (float): is the risk aversion coefficient\n",
    "    \n",
    "    Returns: \n",
    "    m2_vec (array): Vector of m2 values\n",
    "    v2_vec (array): Vector of optimal values for v2\n",
    "    c2_vec (array): Vector of optimal consumption values in period 2\n",
    "    \"\"\"\n",
    "    # a. vectors\n",
    "    m2_vec = np.linspace(1e-8,5,500)\n",
    "    c2_vec = np.empty(500)\n",
    "    v2_vec = np.empty(500)\n",
    "    \n",
    "    \n",
    "    # b. solve for each m2 in grid\n",
    "    for i,m2 in enumerate(m2_vec):\n",
    "\n",
    "            # i. objective\n",
    "            obj = lambda x: -v2(x[0],m2,nu,kappa,rho)\n",
    "\n",
    "            # ii. initial value (consume half)\n",
    "            x0 = m2/2\n",
    "\n",
    "            # iii. optimizer\n",
    "            result = optimize.minimize(obj,[x0],method='L-BFGS-B',bounds=((1e-12,m2),))\n",
    "\n",
    "            # iv. save\n",
    "            v2_vec[i] = -result.fun\n",
    "            c2_vec[i] = result.x[0]\n",
    "        \n",
    "    return m2_vec,v2_vec, c2_vec"
   ]
  },
  {
   "cell_type": "code",
   "execution_count": 19,
   "metadata": {},
   "outputs": [],
   "source": [
    "#Defining solver for period 1\n",
    "def solve_period_1(nu, kappa, rho, r, Delta, p_low, v1, v2_interp):\n",
    "    \"\"\"\n",
    "    Returns the optimal value v1 and choice of c1 for each m1 in period 1\n",
    "    \n",
    "    Args:\n",
    "    nu (float): is the strength of the bequest motive\n",
    "    kappa (float): is the degree of luxuriousness in the bequest motive\n",
    "    rho (float): is the risk aversion coefficient\n",
    "    r (float): is the interest rate\n",
    "    Delta (float): is the level of income risk\n",
    "    p_low (float): is the chance the given household type get a low income in the next period\n",
    "    v1 (array): Vector of optimal consumption values in period 1\n",
    "    v2_interp (array): Interpolation of v2 function\n",
    "\n",
    "\n",
    "    Returns: \n",
    "    m1_vec (array): Vector of m1 values\n",
    "    v1_vec (array): Vector of optimal values for v1\n",
    "    c1_vec (array): Vector of optimal consumption values in period 1\n",
    "    \"\"\"\n",
    "    \n",
    "    # a. vectors\n",
    "    m1_vec = np.linspace(1e-8,5,500)\n",
    "    c1_vec = np.empty(500)\n",
    "    v1_vec = np.empty(500)\n",
    "    \n",
    "    \n",
    "    # b. solve for each m2 in grid\n",
    "    for i,m1 in enumerate(m1_vec):\n",
    "\n",
    "            # i. objective\n",
    "            obj = lambda x: -v1(x[0],m1,nu,kappa,rho, r, Delta, p_low, v2_interp)\n",
    "\n",
    "            # ii. initial value (consume half)\n",
    "            x0 = m1/2\n",
    "\n",
    "            # iii. optimizer\n",
    "            result = optimize.minimize(obj,[x0],method='L-BFGS-B',bounds=((1e-12,(1-Delta)/(1+r)+m1),))\n",
    "\n",
    "            # iv. save\n",
    "            v1_vec[i] = -result.fun\n",
    "            c1_vec[i] = result.x[0]\n",
    "        \n",
    "    return m1_vec, v1_vec, c1_vec"
   ]
  },
  {
   "cell_type": "code",
   "execution_count": 20,
   "metadata": {},
   "outputs": [],
   "source": [
    "#Defining a 'total' solver to run all components at once\n",
    "def solve(nu,kappa,rho,r,Delta,p_low,v1):\n",
    "    \"\"\"\n",
    "    Returns the optimal values and consumption in both periods\n",
    "    \n",
    "    Args:\n",
    "    nu (float): is the strength of the bequest motive\n",
    "    kappa (float): is the degree of luxuriousness in the bequest motive\n",
    "    rho (float): is the risk aversion coefficient\n",
    "    r (float): is the interest rate\n",
    "    Delta (float): is the level of income risk\n",
    "    p_low (float): is the chance the given household type get a low income in the next period\n",
    "    v1 (array): Vector of optimal consumption values in period 1\n",
    "\n",
    "\n",
    "    Returns: \n",
    "    m2_vec (array): Vector of m2 values\n",
    "    v2_vec (array): Vector of optimal values for v2\n",
    "    c2_vec (array): Vector of optimal consumption values in period 2\n",
    "    m1_vec (array): Vector of m1 values\n",
    "    v1_vec (array): Vector of optimal values for v1\n",
    "    c1_vec (array): Vector of optimal consumption values in period 1\n",
    "    \"\"\"\n",
    "    \n",
    "    #a. Initially solve period 2\n",
    "    m2_vec, v2_vec, c2_vec = solve_period_2(nu, kappa, rho)\n",
    "    \n",
    "    #b. Interpolate \n",
    "    v2_interp = interpolate.RegularGridInterpolator([m2_vec], v2_vec,\n",
    "                                                    bounds_error=False,fill_value=None)\n",
    "    \n",
    "    #c. Solve for period 1\n",
    "    m1_vec, v1_vec, c1_vec = solve_period_1(nu, kappa, rho, r, Delta, p_low, v1, v2_interp)\n",
    "    \n",
    "    return m2_vec, v2_vec, c2_vec, m1_vec, v1_vec, c1_vec"
   ]
  },
  {
   "cell_type": "markdown",
   "metadata": {},
   "source": [
    "With all the components, we can now plot our value function v_i(m_i)"
   ]
  },
  {
   "cell_type": "code",
   "execution_count": 21,
   "metadata": {},
   "outputs": [
    {
     "data": {
      "image/png": "[encoded data removed]",
      "text/plain": [
       "<Figure size 1008x432 with 2 Axes>"
      ]
     },
     "metadata": {},
     "output_type": "display_data"
    }
   ],
   "source": [
    "#Iterate over each household type and plot both\n",
    "\n",
    "#Initiate figure\n",
    "fig = plt.figure(figsize=(14,6))\n",
    "\n",
    "#Create subplot for each household type\n",
    "for x, y in p_low_dict.items():\n",
    "    #Solve function for given household type, defined by p_low\n",
    "    m2_vec, v2_vec, c2_vec, m1_vec, v1_vec, c1_vec = solve(nu,kappa,rho,r,Delta, y ,v1)\n",
    "    \n",
    "    #Create figure\n",
    "    ax = fig.add_subplot(1,2,x)\n",
    "    \n",
    "    #Add both lines\n",
    "    ax.plot(m1_vec,v1_vec, label=\"Value of choice in period 1 ($v_1$)\")\n",
    "    ax.plot(m2_vec,v2_vec, label=\"Value of choice in period 2 ($v_2$)\")\n",
    "    \n",
    "    #Formating \n",
    "    ax.legend(loc='lower right')\n",
    "    ax.set_xlabel('$m$')\n",
    "    ax.set_ylabel('$v$')\n",
    "    ax.set_title(f'Value function for household type {x}', fontweight='bold')\n",
    "    ax.set_xlim([-0.1,5])\n",
    "    ax.set_ylim([-10,2]);\n",
    "    \n",
    "plt.show()"
   ]
  },
  {
   "cell_type": "markdown",
   "metadata": {},
   "source": [
    "We observe from the figures, that both households have the same value of choice in period 2. This is as there is not anything stochastic in this period, so they will both make the same choices at a given income level. In period 1 household type 1 will have a lower value for each income level, as they are more likely to have a lower income in the next period. It is therefore intutitive that their value is looking from this period, is lower as well."
   ]
  },
  {
   "cell_type": "markdown",
   "metadata": {},
   "source": [
    "**Question 2.2**"
   ]
  },
  {
   "cell_type": "markdown",
   "metadata": {},
   "source": [
    "As we in the Question 1 maximized the value for each period and level of cash-on-hand, it is clear that the accompanigning consumption level will be the optimal consumption. We can therefore simply call our solve function, this time plotting consumption instead of value."
   ]
  },
  {
   "cell_type": "code",
   "execution_count": 25,
   "metadata": {},
   "outputs": [
    {
     "data": {
      "image/png": "[encoded data removed]",
      "text/plain": [
       "<Figure size 1008x432 with 2 Axes>"
      ]
     },
     "metadata": {},
     "output_type": "display_data"
    }
   ],
   "source": [
    "#Initiate figure\n",
    "fig = plt.figure(figsize=(14,6))\n",
    "\n",
    "#Iterate over each household type and plot both\n",
    "for x, y in p_low_dict.items():\n",
    "    #Solve function for given household type, defined by p_low\n",
    "    m2_vec, v2_vec, c2_vec, m1_vec, v1_vec, c1_vec = solve(nu,kappa,rho,r,Delta, y,v1)\n",
    "    \n",
    "    #Create figure\n",
    "    ax = fig.add_subplot(1,2,x)\n",
    "    ax.plot(m1_vec,c1_vec, label=\"Consumption in period 1 ($c_1$)\")\n",
    "    ax.plot(m2_vec,c2_vec, label=\"Consumption in period 2 ($c_2$)\")\n",
    "    ax.legend(loc='lower right')\n",
    "    ax.set_xlabel('$m$')\n",
    "    ax.set_ylabel('$c$')\n",
    "    ax.set_title(f'Optimal consumption for household type {x}', fontweight='bold')\n",
    "    ax.set_xlim([0,5])\n",
    "    ax.set_ylim([0,5]);\n",
    "    \n",
    "plt.show()"
   ]
  },
  {
   "cell_type": "markdown",
   "metadata": {},
   "source": [
    "As in Question 2.1, it is clear that consumption in period 2, is the same for both household types. This is due to the same reason, of nothing being stochastic in this period.\n",
    "Similarily, we see the same pattern in period 1, where household type 1 will consume less at a given level of cash-on-hand than household type 2. This is due to the insecurity of the next period, where they are aware that they are more inclined to have a lower income than household type 2."
   ]
  },
  {
   "cell_type": "markdown",
   "metadata": {},
   "source": [
    "**Question 2.3**"
   ]
  },
  {
   "cell_type": "markdown",
   "metadata": {},
   "source": [
    "We write a program, which will simulate and calculate the fractions of households that will borrow in the first period. Furthermore the program also outputs a histogram showing the distribution of c1 and a1, for the simulated households."
   ]
  },
  {
   "cell_type": "code",
   "execution_count": 30,
   "metadata": {},
   "outputs": [],
   "source": [
    "#Count total number of households, to ensure our observations are correct\n",
    "def frac_borrow(nu,kappa,rho,r,Delta, p_low,v1):\n",
    "    \"\"\"\n",
    "    Returns the fraction of households spending more than their cash-on-hand in p1 as well as optimal consumption \n",
    "    and alpha for p1\n",
    "    \n",
    "    Args:\n",
    "    nu (float): is the strength of the bequest motive\n",
    "    kappa (float): is the degree of luxuriousness in the bequest motive\n",
    "    rho (float): is the risk aversion coefficient\n",
    "    r (float): is the interest rate\n",
    "    Delta (float): is the level of income risk\n",
    "    p_low (float): is the chance the given household type get a low income in the next period\n",
    "    v1 (array): Vector of optimal consumption values in period 1\n",
    "\n",
    "\n",
    "    Returns: \n",
    "    frac (float): Fraction of households borrowing in p1\n",
    "    sim_c1 (array): Vector of optimal values for consumption in period 1\n",
    "    c2_vec (array): Vector of alpha values in period 1\n",
    "\n",
    "    \"\"\"\n",
    "    #Solve model\n",
    "    m2_vec, v2_vec, c2_vec, m1_vec, v1_vec, c1_vec = solve(nu,kappa,rho,r,Delta, p_low,v1)\n",
    "    \n",
    "    #Interpolate period 1\n",
    "    c1_interp = interpolate.RegularGridInterpolator([m1_vec], c1_vec,\n",
    "                                                bounds_error=False,fill_value=None)\n",
    "    \n",
    "    #DGP:\n",
    "    np.random.seed(2021)\n",
    "    simN = 1000\n",
    "    # No one gets negative m in first period\n",
    "    sim_m1 = np.fmax(np.random.normal(1, 1, size = simN), 0)\n",
    "    \n",
    "    # b. period 1\n",
    "    sim_c1 = c1_interp(sim_m1)\n",
    "    sim_a1 = sim_m1-sim_c1\n",
    "    \n",
    "    #Count amount of households that borrow\n",
    "    borrow = (sim_a1<0).sum()\n",
    "    frac = borrow / simN * 100\n",
    "    \n",
    "    #Calculate fraction\n",
    "    return frac, sim_c1, sim_a1"
   ]
  },
  {
   "cell_type": "markdown",
   "metadata": {},
   "source": [
    "Both of the p_low values are then looped over, in order to calculate the fraction of households who borrow for both types of households. Furthermore a historgram is created for each household type, showing the distribution of c1 and a1."
   ]
  },
  {
   "cell_type": "code",
   "execution_count": 31,
   "metadata": {},
   "outputs": [
    {
     "name": "stdout",
     "output_type": "stream",
     "text": [
      "The fraction of households of type 1 who borrow in the first period is 33.6 %\n",
      "The fraction of households of type 2 who borrow in the first period is 48.6 %\n"
     ]
    },
    {
     "data": {
      "image/png": "[encoded data removed]",
      "text/plain": [
       "<Figure size 1008x432 with 2 Axes>"
      ]
     },
     "metadata": {},
     "output_type": "display_data"
    }
   ],
   "source": [
    "#Initiate figure\n",
    "fig = plt.figure(figsize=(14,6))\n",
    "\n",
    "for x, y in p_low_dict.items():\n",
    "    #Solve function for given household type, defined by p_low\n",
    "    frac, sim_c1, sim_a1 = frac_borrow(nu,kappa,rho,r,Delta, y,v1)\n",
    "    \n",
    "    #Print Fraction\n",
    "    print(f\"The fraction of households of type {x} who borrow in the first period is {frac} %\")\n",
    "    \n",
    "    #Plot histogram (BONUS)\n",
    "    ax = fig.add_subplot(1,2,x)\n",
    "\n",
    "    ax.hist(sim_c1,bins=50,label='c1')\n",
    "    ax.hist(sim_a1,bins=50,label='a1', alpha=0.7)\n",
    "\n",
    "    ax.legend(loc='upper right',facecolor='white',frameon=True)\n",
    "    ax.set_xlabel('$c_t$')\n",
    "    ax.set_ylabel('freq.')\n",
    "    ax.set_xlim([-0.5,3])\n",
    "    ax.set_ylim([0,200]);\n",
    "    ax.set_title(f'Consumption and alpha for type {x} in period', fontweight='bold');"
   ]
  },
  {
   "cell_type": "markdown",
   "metadata": {},
   "source": [
    "# Division by Newton's method"
   ]
  },
  {
   "cell_type": "markdown",
   "metadata": {},
   "source": [
    "**Question 3.1**"
   ]
  },
  {
   "cell_type": "markdown",
   "metadata": {},
   "source": [
    "**Question 3.2**"
   ]
  }
 ],
 "metadata": {
  "kernelspec": {
   "display_name": "Python 3",
   "language": "python",
   "name": "python3"
  },
  "language_info": {
   "codemirror_mode": {
    "name": "ipython",
    "version": 3
   },
   "file_extension": ".py",
   "mimetype": "text/x-python",
   "name": "python",
   "nbconvert_exporter": "python",
   "pygments_lexer": "ipython3",
   "version": "3.8.8"
  },
  "toc-autonumbering": true
 },
 "nbformat": 4,
 "nbformat_minor": 4
}
